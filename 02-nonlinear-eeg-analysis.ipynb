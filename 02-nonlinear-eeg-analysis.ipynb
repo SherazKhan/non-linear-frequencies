{
  "cells": [
    {
      "cell_type": "code",
      "source": [
        "# EEG analysis tools\n",
        "import mne\n",
        "import ssvepy\n",
        "from autoreject import Ransac\n",
        "# scicomp tools\n",
        "import numpy as np\n",
        "from glob import glob\n",
        "from matplotlib import pyplot as plt\n",
        "# notebook tools\n",
        "from tqdm import tqdm_notebook\n",
        "from ipywidgets import interact\n",
        "\nmne.utils.set_log_level('WARNING')"
      ],
      "outputs": [
        {
          "output_type": "stream",
          "name": "stderr",
          "text": [
            "/Library/anaconda/envs/py36/lib/python3.6/site-packages/sklearn/cross_validation.py:44: DeprecationWarning: This module was deprecated in version 0.18 in favor of the model_selection module into which all the refactored classes and functions are moved. Also note that the interface of the new CV iterators are different from that of this module. This module will be removed in 0.20.\n",
            "  \"This module will be removed in 0.20.\", DeprecationWarning)\n"
          ]
        }
      ],
      "execution_count": 1,
      "metadata": {}
    },
    {
      "cell_type": "code",
      "source": [
        "stimfreqs = np.array([28.8, 36.0])\n",
        "\n",
        "triggers = [22, 21, 11, 12]\n",
        "\n",
        "fmin, fmax = 2.0, 150\n"
      ],
      "outputs": [],
      "execution_count": 2,
      "metadata": {
        "collapsed": true
      }
    },
    {
      "cell_type": "code",
      "source": [
        "datafolder = '/Users/jan/Documents/eeg-data/big-protocol/'\n",
        "files = [file for file in glob(datafolder + '*MSSVEP*.bdf')]\n",
        "\n",
        "group = np.array([1 if 'ASC' in file else 0 for file in files])\n",
        "\n",
        "print(f'{len(files)}')\n",
        "print(f'{group.sum()} patients.')\n",
        "print(f'{group.size - group.sum()} controls.')"
      ],
      "outputs": [
        {
          "output_type": "stream",
          "name": "stdout",
          "text": [
            "46\n",
            "14 patients.\n",
            "32 controls.\n"
          ]
        }
      ],
      "execution_count": 4,
      "metadata": {}
    },
    {
      "cell_type": "code",
      "source": [
        "# create a raw class for each participant\n",
        "# NB mne doesn't load the data straight away, this is just info structures\n",
        "raws = [mne.io.read_raw_edf(file, eog=['EXG' + str(i) for i in range(9)],\n",
        "                            montage=mne.channels.read_montage('biosemi64'),\n",
        "                            verbose='WARNING')\n",
        "       for file in files]\n",
        "# For now, we'll just work with the EEG channels:\n",
        "picks = [mne.pick_types(raw.info, eeg=True) for raw in raws]\n",
        "\n",
        "# Add the 3D Montage\n",
        "mtg = mne.channels.read_montage('biosemi64')\n",
        "for raw in raws:\n",
        "    raw.set_montage(mtg)\n"
      ],
      "outputs": [],
      "execution_count": 5,
      "metadata": {
        "collapsed": true
      }
    },
    {
      "cell_type": "code",
      "source": [
        "# read the events\n",
        "events = [mne.find_events(raw, stim_channel='STI 014', verbose='WARNING')\n",
        "          for raw in tqdm_notebook(raws)]\n",
        "# choose the events that are actual start triggers (255=end of trial)\n",
        "eventids = [event[:, 2][event[:, 2] < 255].tolist()\n",
        "            for event in events]\n",
        "# There are some cases in which the trigger was not at 0,\n",
        "# so we need to turn those into the missing numbers\n",
        "for i, ts in enumerate(eventids):\n",
        "    for j, t in enumerate(ts):\n",
        "        if t > 22:\n",
        "            for replacement in triggers:\n",
        "                # if there are less than 4 of the trigger, it's the culprit:\n",
        "                if ts.count(replacement) < 4:\n",
        "                    eventids[i][j] = replacement\n",
        "                    events[i][j, 2] = replacement\n"
      ],
      "outputs": [
        {
          "output_type": "display_data",
          "data": {
            "application/vnd.jupyter.widget-view+json": {
              "model_id": "df2c99230d68431385a402a5411136c8"
            }
          },
          "metadata": {}
        },
        {
          "output_type": "stream",
          "name": "stdout",
          "text": [
            "\n"
          ]
        }
      ],
      "execution_count": 6,
      "metadata": {}
    },
    {
      "cell_type": "code",
      "source": [
        "# Create two separate sets of epochs, one for 11, 12, one for 21, 22\n",
        "# the outer list has the subjects, the inner list the two epoch types\n",
        "epochs = [\n",
        "    [mne.Epochs(raw, events=event, event_id=eventids,\n",
        "                tmin=0, tmax=8, picks=pick)\n",
        "     for eventids in [[21, 22], [11, 12]]]\n",
        "    for raw, event, pick in tqdm_notebook(zip(raws, events, picks))\n",
        "]"
      ],
      "outputs": [
        {
          "output_type": "display_data",
          "data": {
            "application/vnd.jupyter.widget-view+json": {
              "model_id": "5bf2f7b5ce934362ae37ac832802e6ea"
            }
          },
          "metadata": {}
        }
      ],
      "execution_count": 9,
      "metadata": {}
    },
    {
      "cell_type": "code",
      "source": [
        "# Re-sample the data to make it easier to handle\n",
        "for both_epochs in tqdm_notebook(epochs, desc='Subjects'):\n",
        "    for epoch in both_epochs:\n",
        "        # NB both of these operate in-place\n",
        "        epoch.load_data()\n",
        "        epoch.resample(256)"
      ],
      "outputs": [
        {
          "output_type": "display_data",
          "data": {
            "application/vnd.jupyter.widget-view+json": {
              "model_id": "ef9f76d287074c36bd402d587d0d15da"
            }
          },
          "metadata": {}
        }
      ],
      "execution_count": 10,
      "metadata": {}
    },
    {
      "cell_type": "code",
      "source": [
        "# Notch-filter the data for the mains supply\n",
        "# for both_epochs in tqdm_notebook(epochs, desc='Subjects'):\n",
        "#     for epoch in both_epochs:\n",
        "#         epoch.notch_filter(np.arange(50, 151, 50))"
      ],
      "outputs": [],
      "execution_count": 11,
      "metadata": {
        "collapsed": true
      }
    },
    {
      "cell_type": "code",
      "source": [
        "# Re-reference the data\n",
        "for both_epochs in tqdm_notebook(epochs, desc='Subjects'):\n",
        "    for epoch in both_epochs:\n",
        "        # both of these operate in place\n",
        "        epoch.set_eeg_reference()\n",
        "        epoch.apply_proj()"
      ],
      "outputs": [
        {
          "output_type": "display_data",
          "data": {
            "application/vnd.jupyter.widget-view+json": {
              "model_id": "d4912c2940d84b2dbc4a9b1206bb9fc7"
            }
          },
          "metadata": {}
        }
      ],
      "execution_count": 12,
      "metadata": {}
    },
    {
      "cell_type": "code",
      "source": [
        "# Create the SSVEP analysis structures\n",
        "ssveps = [\n",
        "    [ssvepy.Ssvep(epoch, [stimfreq],\n",
        "                  fmin=fmin, fmax=110,\n",
        "                  compute_harmonics = range(2, 6),\n",
        "                  compute_subharmonics = range(2, 6))\n",
        "     for epoch, stimfreq in zip(both_epochs, stimfreqs)]\n",
        "    for both_epochs in tqdm_notebook(epochs, desc='Subjects')\n",
        "]\n"
      ],
      "outputs": [
        {
          "output_type": "display_data",
          "data": {
            "application/vnd.jupyter.widget-view+json": {
              "model_id": "705ed8d76c4c4daa8062efa295532e54"
            }
          },
          "metadata": {}
        }
      ],
      "execution_count": 30,
      "metadata": {}
    },
    {
      "cell_type": "code",
      "source": [
        "ssveps[35][0].plot_snr(show=False)\n",
        "plt.savefig('example-snr.pdf', transparent=True)"
      ],
      "outputs": [],
      "execution_count": 46,
      "metadata": {}
    },
    {
      "cell_type": "code",
      "source": [
        "def plot_spec(subjectno, stimfreq, spectype='snr'):\n",
        "    if spectype=='snr':\n",
        "        ssveps[subjectno][stimfreq].plot_snr()\n",
        "    elif spectype=='psd':\n",
        "        ssveps[subjectno][stimfreq].plot_psd()\n",
        "\n",
        "interact(plot_spec,\n",
        "         subjectno=(0, len(files)-1, 1),\n",
        "         stimfreq=(0, 1, 1),\n",
        "         spectype=['snr', 'psd']);\n",
        "\n"
      ],
      "outputs": [
        {
          "output_type": "display_data",
          "data": {
            "application/vnd.jupyter.widget-view+json": {
              "model_id": "e2cc4a6f1abc43c5a567254f1d56499e"
            }
          },
          "metadata": {}
        }
      ],
      "execution_count": 43,
      "metadata": {}
    },
    {
      "cell_type": "markdown",
      "source": [
        "---\n",
        "\n## Stats Analysis"
      ],
      "metadata": {}
    },
    {
      "cell_type": "code",
      "source": [
        "import pandas as pd\n",
        "import statsmodels\n",
        "import statsmodels.formula.api\n",
        "from statsmodels.stats.anova import anova_lm\n",
        "import scipy"
      ],
      "outputs": [
        {
          "output_type": "stream",
          "name": "stdout",
          "text": [
            "\n"
          ]
        }
      ],
      "execution_count": 16,
      "metadata": {}
    },
    {
      "cell_type": "code",
      "source": [
        "# Compare SNR of the two groups at stimulation at the occipital electrodes\n",
        "electrodes = [ssveps[0][0].ch_names.index(elec)\n",
        "              for elec in['Oz', 'O1', 'O2', 'POz', 'Iz']]\n",
        "stimsnrs = np.stack([\n",
        "    np.stack([ssvep.stimulation.snr[:, electrodes].mean() * 10**12\n",
        "              for ssvep in both_ssveps])\n",
        "    for both_ssveps in ssveps\n",
        "])\n",
        "\n",
        "# stimsnrs = pd.DataFrame(data=stimsnrs, columns=[str(f) for f in stimfreqs])\n",
        "# stimsnrs['group'] = group\n",
        "# stimsnrs['subject'] = [file[-15:-11] for file in files]\n",
        "\n",
        "# # Melt into tidy format\n",
        "# stimsnrs = pd.melt(stimsnrs, id_vars=['subject', 'group'],\n",
        "#                    value_name='snr', var_name='stimulationfrequency',\n",
        "#                    value_vars=[str(f) for f in stimfreqs])\n",
        "\n",
        "# model = statsmodels.formula.api.ols(\n",
        "#     data=stimsnrs, formula='snr ~ C(group) + C(stimulationfrequency) + C(group):C(stimulationfrequency)'\n",
        "# ).fit()\n",
        "# aov_table = anova_lm(model, typ=2)\n",
        "\n",
        "scipy.stats.ttest_ind(stimsnrs[group==0, 0], stimsnrs[group==1, 0])\n",
        "print(scipy.stats.ttest_ind(stimsnrs[group==0, 1], stimsnrs[group==1, 1]))"
      ],
      "outputs": [
        {
          "output_type": "stream",
          "name": "stdout",
          "text": [
            "Ttest_indResult(statistic=-0.33003104910748809, pvalue=0.74294272164657749)\n"
          ]
        }
      ],
      "execution_count": 17,
      "metadata": {}
    },
    {
      "cell_type": "code",
      "source": [
        "# Compare the non-linear SNRs\n",
        "harmonicsnrs = np.stack([\n",
        "    np.stack([ssvep.harmonic.snr[:, electrodes].mean(axis=(0, 1)) * 10**12\n",
        "              for ssvep in both_ssveps],\n",
        "             axis=1)\n",
        "    for both_ssveps in ssveps\n",
        "], axis=2)\n",
        "\n",
        "harmonicamps = np.stack([\n",
        "    np.stack([ssvep.harmonic.power[:, electrodes].mean(axis=(0, 1)) * 10**12\n",
        "              for ssvep in both_ssveps],\n",
        "             axis=1)\n",
        "    for both_ssveps in ssveps\n",
        "], axis=2)\n",
        "\n",
        "subharmonicamps = np.stack([\n",
        "    np.stack([ssvep.subharmonic.power[:, electrodes].mean(axis=(0, 1)) * 10**12\n",
        "              for ssvep in both_ssveps],\n",
        "             axis=1)\n",
        "    for both_ssveps in ssveps\n",
        "], axis=2)\n",
        "\n",
        "subharmonicsnrs = np.stack([\n",
        "    np.stack([ssvep.subharmonic.snr[:, electrodes].mean(axis=(0, 1)) * 10**12\n",
        "              for ssvep in both_ssveps],\n",
        "             axis=1)\n",
        "    for both_ssveps in ssveps\n",
        "], axis=2)"
      ],
      "outputs": [],
      "execution_count": 31,
      "metadata": {
        "collapsed": true
      }
    },
    {
      "cell_type": "code",
      "source": [
        "ydata=harmonicamps[:, iorder, :]\n",
        "ydata[0, :] > (ydata[0, :].mean() + 2*ydata[0, :].std())\n",
        "ydata[1, :] > (ydata[1, :].mean() + 2*ydata[1, :].std())"
      ],
      "outputs": [
        {
          "output_type": "stream",
          "name": "stderr",
          "text": [
            "/Library/anaconda/envs/py36/lib/python3.6/site-packages/ipykernel_launcher.py:2: RuntimeWarning: invalid value encountered in greater\n",
            "  \n"
          ]
        },
        {
          "output_type": "execute_result",
          "execution_count": 27,
          "data": {
            "text/plain": [
              "array([False, False, False, False, False, False, False, False, False,\n",
              "       False, False, False, False, False, False, False, False,  True,\n",
              "       False, False, False, False, False, False, False, False, False,\n",
              "       False, False, False, False, False, False, False, False, False,\n",
              "       False, False, False, False, False, False, False, False, False, False], dtype=bool)"
            ]
          },
          "metadata": {}
        }
      ],
      "execution_count": 27,
      "metadata": {}
    },
    {
      "cell_type": "code",
      "source": [
        "# Plot differenes\n",
        "\n",
        "plt.figure(figsize=(8, 6))\n",
        "\n",
        "for iorder in range(1):\n",
        "#     plt.subplot(3, 2, 3+iorder)\n",
        "    ydata=np.mean(harmonicamps[:, :, :], axis=1)\n",
        "    # remove outliers\n",
        "    ydata[0, ydata[0, :] > (np.nanmean(ydata[0, :]) + 3*np.nanstd(ydata[0, :]))] = np.nan\n",
        "    ydata[1, ydata[1, :] > (np.nanmean(ydata[1, :]) + 3*np.nanstd(ydata[1, :]))] = np.nan\n",
        "    labels=['Control', 'Autism']\n",
        "    for igroup in range(2):\n",
        "        plt.scatter(stimfreqs - 0.5 + igroup,\n",
        "                    [np.nanmean(ydata[0, group==igroup]),\n",
        "                     np.nanmean(ydata[1, group==igroup])],\n",
        "                    label=labels[igroup])\n",
        "        plt.errorbar(stimfreqs - 0.5 + igroup,\n",
        "                     [np.nanmean(ydata[0, group==igroup]),\n",
        "                      np.nanmean(ydata[1, group==igroup])],\n",
        "                     yerr=[scipy.stats.sem(ydata[0, group==igroup], nan_policy='omit'),\n",
        "                           scipy.stats.sem(ydata[1, group==igroup], nan_policy='omit')],\n",
        "                     linewidth=0, elinewidth=2)\n",
        "        plt.xticks(stimfreqs)\n",
        "        plt.xlabel('Frequency', size=20)\n",
        "        plt.ylabel('Harmonic Power', size=20)\n",
        "        plt.legend(fontsize=15, framealpha=0.0)\n",
        "        plt.set_cmap('viridis')\n",
        "\n\n",
        "plt.savefig('harmonic-power.pdf', transparent=True)\n",
        "plt.show()"
      ],
      "outputs": [
        {
          "output_type": "stream",
          "name": "stderr",
          "text": [
            "/Library/anaconda/envs/py36/lib/python3.6/site-packages/ipykernel_launcher.py:21: RuntimeWarning: invalid value encountered in greater\n",
            "/Library/anaconda/envs/py36/lib/python3.6/site-packages/ipykernel_launcher.py:22: RuntimeWarning: invalid value encountered in greater\n"
          ]
        },
        {
          "output_type": "display_data",
          "data": {
            "image/png": "[encoded data removed]",
            "text/plain": [
              "<matplotlib.figure.Figure at 0x156558898>"
            ]
          },
          "metadata": {}
        }
      ],
      "execution_count": 42,
      "metadata": {}
    },
    {
      "cell_type": "code",
      "source": [
        "harmonicamps[:, iorder, :]"
      ],
      "outputs": [
        {
          "output_type": "execute_result",
          "execution_count": 20,
          "data": {
            "text/plain": [
              "array([[  5.66203319e+01,   7.28324250e+01,   1.84995993e+01,\n",
              "          8.35563457e+01,   5.16814139e+01,   5.53647642e+01,\n",
              "          1.08938546e+01,   7.55375631e+01,   8.34351227e+01,\n",
              "          5.50339664e+01,   4.85286357e+01,   1.39307351e+01,\n",
              "          1.43114149e+01,   3.76098042e+01,   1.82482577e+01,\n",
              "          6.17907691e+01,   4.65532972e+01,   1.29416707e+04,\n",
              "          2.99963728e+01,   1.21639061e+01,   6.66426455e+00,\n",
              "          2.38530036e+01,   1.65773535e+01,   1.07959263e+01,\n",
              "          4.58723883e+01,   7.67826679e+01,   2.50946984e+01,\n",
              "          9.56519954e+01,   8.00835879e+01,   4.68504471e+01,\n",
              "          5.30902622e+01,   5.26672380e+01,   1.40791701e+02,\n",
              "          5.18557096e+01,   1.36815469e+02,   6.91611778e+01,\n",
              "          6.44605744e+01,   1.35964158e+02,   7.00790447e+02,\n",
              "          8.19002163e+01,   1.16367954e+01,   1.85078558e+01,\n",
              "          7.38672828e+01,   2.10213260e+01,   2.18522145e+01,\n",
              "          4.84480426e+01],\n",
              "       [  3.40498873e+01,   6.19726882e+01,   1.39622570e+01,\n",
              "          1.94955869e+01,   2.07263606e+01,   3.54420569e+01,\n",
              "          1.89924015e+00,   1.18096148e+01,   2.44390318e+01,\n",
              "          2.07922488e+01,   2.27551439e+01,   3.81687416e+00,\n",
              "          6.52820281e+00,   7.87503924e+00,   1.32568500e+01,\n",
              "          1.97670468e+01,   1.41757185e+01,   8.35739309e+03,\n",
              "          4.55678846e+00,   9.89933755e+00,   3.44795327e+00,\n",
              "          1.51734061e+01,   1.43200608e+01,   6.91967567e+00,\n",
              "          7.88214159e+00,   6.53628674e+01,   6.39985898e+00,\n",
              "          6.35684576e+01,   1.44566004e+01,   7.96750711e+00,\n",
              "          1.00595667e+01,   1.45500328e+01,   1.09552317e+01,\n",
              "          4.35810735e+00,   6.97163749e+01,   1.19889945e+01,\n",
              "          4.05698217e+01,   4.39092460e+01,   3.87516533e+02,\n",
              "          9.15825765e+00,   4.48839197e+00,   4.63876819e+00,\n",
              "          4.68954747e+01,   1.40791462e+01,   5.80644913e+00,\n",
              "          3.37525953e+01]])"
            ]
          },
          "metadata": {}
        }
      ],
      "execution_count": 20,
      "metadata": {}
    },
    {
      "cell_type": "code",
      "source": [],
      "outputs": [],
      "execution_count": null,
      "metadata": {
        "collapsed": true
      }
    }
  ],
  "metadata": {
    "kernelspec": {
      "name": "python3",
      "language": "python",
      "display_name": "Python 3"
    },
    "language_info": {
      "name": "python",
      "version": "3.6.1",
      "mimetype": "text/x-python",
      "codemirror_mode": {
        "name": "ipython",
        "version": 3
      },
      "pygments_lexer": "ipython3",
      "nbconvert_exporter": "python",
      "file_extension": ".py"
    },
    "kernel_info": {
      "name": "python3"
    }
  },
  "nbformat": 4,
  "nbformat_minor": 2
}